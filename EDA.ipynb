{
  "cells": [
    {
      "cell_type": "markdown",
      "source": [
        "## Part 1: Exploratory Data Analysis\n",
        "\n",
        "---"
      ],
      "metadata": {
        "id": "t5Xk5mj6i7Hw"
      },
      "id": "t5Xk5mj6i7Hw"
    },
    {
      "cell_type": "code",
      "execution_count": null,
      "id": "4cd13879-b114-47c8-872a-cb477411ec28",
      "metadata": {
        "id": "4cd13879-b114-47c8-872a-cb477411ec28"
      },
      "outputs": [],
      "source": [
        "import pandas as pd\n",
        "import numpy as np\n",
        "from gensim.parsing.preprocessing import strip_punctuation,strip_multiple_whitespaces\n",
        "import matplotlib.pyplot as plt"
      ]
    },
    {
      "cell_type": "code",
      "execution_count": null,
      "id": "2d98c4dd-e147-487d-aae7-0aabc5a4a06f",
      "metadata": {
        "colab": {
          "base_uri": "https://localhost:8080/"
        },
        "id": "2d98c4dd-e147-487d-aae7-0aabc5a4a06f",
        "outputId": "9bca043c-d25d-4787-be8d-db18dfdb90b8"
      },
      "outputs": [
        {
          "output_type": "stream",
          "name": "stdout",
          "text": [
            "Mounted at /content/drive\n"
          ]
        }
      ],
      "source": [
        "# Import clean dataset\n",
        "IN_COLAB = False\n",
        "\n",
        "try:\n",
        "    import google.colab\n",
        "    from google.colab import drive\n",
        "    IN_COLAB = True\n",
        "except ImportError:\n",
        "    IN_COLAB = False\n",
        "\n",
        "if IN_COLAB:\n",
        "    # mount our google drive\n",
        "    drive.mount('/content/drive', force_remount=True)\n",
        "    data_dir = \"/content/drive/MyDrive/WM 23-24/DATA 340 NLP/NLP Final Project/datasets/\"\n",
        "else:\n",
        "    data_dir = \"datasets/\"\n",
        "\n",
        "data = pd.read_csv(str(data_dir) + \"movies.csv\")\n"
      ]
    },
    {
      "cell_type": "code",
      "execution_count": null,
      "id": "7aec5fd6-44ea-43f0-96a0-6dff5f8b8b11",
      "metadata": {
        "colab": {
          "base_uri": "https://localhost:8080/",
          "height": 712
        },
        "id": "7aec5fd6-44ea-43f0-96a0-6dff5f8b8b11",
        "outputId": "af9b1d79-ca36-48e7-b25d-43ab921024b5"
      },
      "outputs": [
        {
          "output_type": "execute_result",
          "data": {
            "text/plain": [
              "       id                              title  \\\n",
              "0  615656                  Meg 2: The Trench   \n",
              "1  758323                The Pope's Exorcist   \n",
              "2  667538   Transformers: Rise of the Beasts   \n",
              "3  693134                     Dune: Part Two   \n",
              "4  640146  Ant-Man and the Wasp: Quantumania   \n",
              "\n",
              "                             genres original_language  \\\n",
              "0     Action-Science Fiction-Horror                en   \n",
              "1           Horror-Mystery-Thriller                en   \n",
              "2  Action-Adventure-Science Fiction                en   \n",
              "3         Science Fiction-Adventure                en   \n",
              "4  Action-Adventure-Science Fiction                en   \n",
              "\n",
              "                                            overview  popularity  \\\n",
              "0  An exploratory dive into the deepest depths of...    8763.998   \n",
              "1  Father Gabriele Amorth Chief Exorcist of the V...    5953.227   \n",
              "2  When a new threat capable of destroying the en...    5409.104   \n",
              "3  Follow the mythic journey of Paul Atreides as ...    4742.163   \n",
              "4  Super-Hero partners Scott Lang and Hope van Dy...    4425.387   \n",
              "\n",
              "                                production_companies release_date  \\\n",
              "0  Apelles Entertainment-Warner Bros. Pictures-di...   2023-08-02   \n",
              "1  Screen Gems-2.0 Entertainment-Jesus & Mary-Wor...   2023-04-05   \n",
              "2  Skydance-Paramount-di Bonaventura Pictures-Bay...   2023-06-06   \n",
              "3                                 Legendary Pictures   2024-02-27   \n",
              "4             Marvel Studios-Kevin Feige Productions   2023-02-15   \n",
              "\n",
              "        budget      revenue  runtime    status  \\\n",
              "0  129000000.0  352056482.0    116.0  Released   \n",
              "1   18000000.0   65675816.0    103.0  Released   \n",
              "2  200000000.0  407045464.0    127.0  Released   \n",
              "3  190000000.0  683813734.0    167.0  Released   \n",
              "4  200000000.0  475766228.0    125.0  Released   \n",
              "\n",
              "                                             tagline  vote_average  \\\n",
              "0                                  Back for seconds.         7.079   \n",
              "1  Inspired by the actual files of Father Gabriel...         7.433   \n",
              "2                                     Unite or fall.         7.340   \n",
              "3                            Long live the fighters.         8.300   \n",
              "4            Witness the beginning of a new dynasty.         6.507   \n",
              "\n",
              "   vote_count                                            credits  \\\n",
              "0      1365.0  Jason Statham-Wu Jing-Shuya Sophia Cai-Sergio ...   \n",
              "1       545.0  Russell Crowe-Daniel Zovatto-Alex Essoe-Franco...   \n",
              "2      1007.0  Anthony Ramos-Dominique Fishback-Luna Lauren V...   \n",
              "3      2770.0  Timothée Chalamet-Zendaya-Rebecca Ferguson-Jav...   \n",
              "4      2811.0  Paul Rudd-Evangeline Lilly-Jonathan Majors-Kat...   \n",
              "\n",
              "                                            keywords  \\\n",
              "0                based on novel or book-sequel-kaiju   \n",
              "1  spain-rome italy-vatican-pope-pig-possession-c...   \n",
              "2  peru-alien-end of the world-based on cartoon-b...   \n",
              "3  epic-based on novel or book-fight-sandstorm-sa...   \n",
              "4  hero-ant-sequel-superhero-based on comic-famil...   \n",
              "\n",
              "                        poster_path                     backdrop_path  \\\n",
              "0  /4m1Au3YkjqsxF8iwQy0fPYSxE0h.jpg  /qlxy8yo5bcgUw2KAmmojUKp4rHd.jpg   \n",
              "1  /9JBEPLTPSm0d1mbEcLxULjJq9Eh.jpg  /hiHGRbyTcbZoLsYYkO4QiCLYe34.jpg   \n",
              "2  /gPbM0MK8CP8A174rmUwGsADNYKD.jpg  /woJbg7ZqidhpvqFGGMRhWQNoxwa.jpg   \n",
              "3  /czembW0Rk1Ke7lCJGahbOhdCuhV.jpg  /xOMo8BRK7PfcJv9JCnx7s5hj0PX.jpg   \n",
              "4  /qnqGbB22YJ7dSs4o6M7exTpNxPz.jpg  /m8JTwHFwX7I7JY5fPe4SjqejWag.jpg   \n",
              "\n",
              "                                     recommendations  \n",
              "0  1006462-298618-569094-1061181-346698-1076487-6...  \n",
              "1  713704-296271-502356-1076605-1084225-1008005-9...  \n",
              "2  496450-569094-298618-385687-877100-598331-4628...  \n",
              "3  438631-763215-792307-1011985-467244-634492-359...  \n",
              "4  823999-676841-868759-734048-267805-965839-1033...  "
            ],
            "text/html": [
              "\n",
              "  <div id=\"df-c2fbc5f3-d361-42b8-98b2-781f7e9a3359\" class=\"colab-df-container\">\n",
              "    <div>\n",
              "<style scoped>\n",
              "    .dataframe tbody tr th:only-of-type {\n",
              "        vertical-align: middle;\n",
              "    }\n",
              "\n",
              "    .dataframe tbody tr th {\n",
              "        vertical-align: top;\n",
              "    }\n",
              "\n",
              "    .dataframe thead th {\n",
              "        text-align: right;\n",
              "    }\n",
              "</style>\n",
              "<table border=\"1\" class=\"dataframe\">\n",
              "  <thead>\n",
              "    <tr style=\"text-align: right;\">\n",
              "      <th></th>\n",
              "      <th>id</th>\n",
              "      <th>title</th>\n",
              "      <th>genres</th>\n",
              "      <th>original_language</th>\n",
              "      <th>overview</th>\n",
              "      <th>popularity</th>\n",
              "      <th>production_companies</th>\n",
              "      <th>release_date</th>\n",
              "      <th>budget</th>\n",
              "      <th>revenue</th>\n",
              "      <th>runtime</th>\n",
              "      <th>status</th>\n",
              "      <th>tagline</th>\n",
              "      <th>vote_average</th>\n",
              "      <th>vote_count</th>\n",
              "      <th>credits</th>\n",
              "      <th>keywords</th>\n",
              "      <th>poster_path</th>\n",
              "      <th>backdrop_path</th>\n",
              "      <th>recommendations</th>\n",
              "    </tr>\n",
              "  </thead>\n",
              "  <tbody>\n",
              "    <tr>\n",
              "      <th>0</th>\n",
              "      <td>615656</td>\n",
              "      <td>Meg 2: The Trench</td>\n",
              "      <td>Action-Science Fiction-Horror</td>\n",
              "      <td>en</td>\n",
              "      <td>An exploratory dive into the deepest depths of...</td>\n",
              "      <td>8763.998</td>\n",
              "      <td>Apelles Entertainment-Warner Bros. Pictures-di...</td>\n",
              "      <td>2023-08-02</td>\n",
              "      <td>129000000.0</td>\n",
              "      <td>352056482.0</td>\n",
              "      <td>116.0</td>\n",
              "      <td>Released</td>\n",
              "      <td>Back for seconds.</td>\n",
              "      <td>7.079</td>\n",
              "      <td>1365.0</td>\n",
              "      <td>Jason Statham-Wu Jing-Shuya Sophia Cai-Sergio ...</td>\n",
              "      <td>based on novel or book-sequel-kaiju</td>\n",
              "      <td>/4m1Au3YkjqsxF8iwQy0fPYSxE0h.jpg</td>\n",
              "      <td>/qlxy8yo5bcgUw2KAmmojUKp4rHd.jpg</td>\n",
              "      <td>1006462-298618-569094-1061181-346698-1076487-6...</td>\n",
              "    </tr>\n",
              "    <tr>\n",
              "      <th>1</th>\n",
              "      <td>758323</td>\n",
              "      <td>The Pope's Exorcist</td>\n",
              "      <td>Horror-Mystery-Thriller</td>\n",
              "      <td>en</td>\n",
              "      <td>Father Gabriele Amorth Chief Exorcist of the V...</td>\n",
              "      <td>5953.227</td>\n",
              "      <td>Screen Gems-2.0 Entertainment-Jesus &amp; Mary-Wor...</td>\n",
              "      <td>2023-04-05</td>\n",
              "      <td>18000000.0</td>\n",
              "      <td>65675816.0</td>\n",
              "      <td>103.0</td>\n",
              "      <td>Released</td>\n",
              "      <td>Inspired by the actual files of Father Gabriel...</td>\n",
              "      <td>7.433</td>\n",
              "      <td>545.0</td>\n",
              "      <td>Russell Crowe-Daniel Zovatto-Alex Essoe-Franco...</td>\n",
              "      <td>spain-rome italy-vatican-pope-pig-possession-c...</td>\n",
              "      <td>/9JBEPLTPSm0d1mbEcLxULjJq9Eh.jpg</td>\n",
              "      <td>/hiHGRbyTcbZoLsYYkO4QiCLYe34.jpg</td>\n",
              "      <td>713704-296271-502356-1076605-1084225-1008005-9...</td>\n",
              "    </tr>\n",
              "    <tr>\n",
              "      <th>2</th>\n",
              "      <td>667538</td>\n",
              "      <td>Transformers: Rise of the Beasts</td>\n",
              "      <td>Action-Adventure-Science Fiction</td>\n",
              "      <td>en</td>\n",
              "      <td>When a new threat capable of destroying the en...</td>\n",
              "      <td>5409.104</td>\n",
              "      <td>Skydance-Paramount-di Bonaventura Pictures-Bay...</td>\n",
              "      <td>2023-06-06</td>\n",
              "      <td>200000000.0</td>\n",
              "      <td>407045464.0</td>\n",
              "      <td>127.0</td>\n",
              "      <td>Released</td>\n",
              "      <td>Unite or fall.</td>\n",
              "      <td>7.340</td>\n",
              "      <td>1007.0</td>\n",
              "      <td>Anthony Ramos-Dominique Fishback-Luna Lauren V...</td>\n",
              "      <td>peru-alien-end of the world-based on cartoon-b...</td>\n",
              "      <td>/gPbM0MK8CP8A174rmUwGsADNYKD.jpg</td>\n",
              "      <td>/woJbg7ZqidhpvqFGGMRhWQNoxwa.jpg</td>\n",
              "      <td>496450-569094-298618-385687-877100-598331-4628...</td>\n",
              "    </tr>\n",
              "    <tr>\n",
              "      <th>3</th>\n",
              "      <td>693134</td>\n",
              "      <td>Dune: Part Two</td>\n",
              "      <td>Science Fiction-Adventure</td>\n",
              "      <td>en</td>\n",
              "      <td>Follow the mythic journey of Paul Atreides as ...</td>\n",
              "      <td>4742.163</td>\n",
              "      <td>Legendary Pictures</td>\n",
              "      <td>2024-02-27</td>\n",
              "      <td>190000000.0</td>\n",
              "      <td>683813734.0</td>\n",
              "      <td>167.0</td>\n",
              "      <td>Released</td>\n",
              "      <td>Long live the fighters.</td>\n",
              "      <td>8.300</td>\n",
              "      <td>2770.0</td>\n",
              "      <td>Timothée Chalamet-Zendaya-Rebecca Ferguson-Jav...</td>\n",
              "      <td>epic-based on novel or book-fight-sandstorm-sa...</td>\n",
              "      <td>/czembW0Rk1Ke7lCJGahbOhdCuhV.jpg</td>\n",
              "      <td>/xOMo8BRK7PfcJv9JCnx7s5hj0PX.jpg</td>\n",
              "      <td>438631-763215-792307-1011985-467244-634492-359...</td>\n",
              "    </tr>\n",
              "    <tr>\n",
              "      <th>4</th>\n",
              "      <td>640146</td>\n",
              "      <td>Ant-Man and the Wasp: Quantumania</td>\n",
              "      <td>Action-Adventure-Science Fiction</td>\n",
              "      <td>en</td>\n",
              "      <td>Super-Hero partners Scott Lang and Hope van Dy...</td>\n",
              "      <td>4425.387</td>\n",
              "      <td>Marvel Studios-Kevin Feige Productions</td>\n",
              "      <td>2023-02-15</td>\n",
              "      <td>200000000.0</td>\n",
              "      <td>475766228.0</td>\n",
              "      <td>125.0</td>\n",
              "      <td>Released</td>\n",
              "      <td>Witness the beginning of a new dynasty.</td>\n",
              "      <td>6.507</td>\n",
              "      <td>2811.0</td>\n",
              "      <td>Paul Rudd-Evangeline Lilly-Jonathan Majors-Kat...</td>\n",
              "      <td>hero-ant-sequel-superhero-based on comic-famil...</td>\n",
              "      <td>/qnqGbB22YJ7dSs4o6M7exTpNxPz.jpg</td>\n",
              "      <td>/m8JTwHFwX7I7JY5fPe4SjqejWag.jpg</td>\n",
              "      <td>823999-676841-868759-734048-267805-965839-1033...</td>\n",
              "    </tr>\n",
              "  </tbody>\n",
              "</table>\n",
              "</div>\n",
              "    <div class=\"colab-df-buttons\">\n",
              "\n",
              "  <div class=\"colab-df-container\">\n",
              "    <button class=\"colab-df-convert\" onclick=\"convertToInteractive('df-c2fbc5f3-d361-42b8-98b2-781f7e9a3359')\"\n",
              "            title=\"Convert this dataframe to an interactive table.\"\n",
              "            style=\"display:none;\">\n",
              "\n",
              "  <svg xmlns=\"http://www.w3.org/2000/svg\" height=\"24px\" viewBox=\"0 -960 960 960\">\n",
              "    <path d=\"M120-120v-720h720v720H120Zm60-500h600v-160H180v160Zm220 220h160v-160H400v160Zm0 220h160v-160H400v160ZM180-400h160v-160H180v160Zm440 0h160v-160H620v160ZM180-180h160v-160H180v160Zm440 0h160v-160H620v160Z\"/>\n",
              "  </svg>\n",
              "    </button>\n",
              "\n",
              "  <style>\n",
              "    .colab-df-container {\n",
              "      display:flex;\n",
              "      gap: 12px;\n",
              "    }\n",
              "\n",
              "    .colab-df-convert {\n",
              "      background-color: #E8F0FE;\n",
              "      border: none;\n",
              "      border-radius: 50%;\n",
              "      cursor: pointer;\n",
              "      display: none;\n",
              "      fill: #1967D2;\n",
              "      height: 32px;\n",
              "      padding: 0 0 0 0;\n",
              "      width: 32px;\n",
              "    }\n",
              "\n",
              "    .colab-df-convert:hover {\n",
              "      background-color: #E2EBFA;\n",
              "      box-shadow: 0px 1px 2px rgba(60, 64, 67, 0.3), 0px 1px 3px 1px rgba(60, 64, 67, 0.15);\n",
              "      fill: #174EA6;\n",
              "    }\n",
              "\n",
              "    .colab-df-buttons div {\n",
              "      margin-bottom: 4px;\n",
              "    }\n",
              "\n",
              "    [theme=dark] .colab-df-convert {\n",
              "      background-color: #3B4455;\n",
              "      fill: #D2E3FC;\n",
              "    }\n",
              "\n",
              "    [theme=dark] .colab-df-convert:hover {\n",
              "      background-color: #434B5C;\n",
              "      box-shadow: 0px 1px 3px 1px rgba(0, 0, 0, 0.15);\n",
              "      filter: drop-shadow(0px 1px 2px rgba(0, 0, 0, 0.3));\n",
              "      fill: #FFFFFF;\n",
              "    }\n",
              "  </style>\n",
              "\n",
              "    <script>\n",
              "      const buttonEl =\n",
              "        document.querySelector('#df-c2fbc5f3-d361-42b8-98b2-781f7e9a3359 button.colab-df-convert');\n",
              "      buttonEl.style.display =\n",
              "        google.colab.kernel.accessAllowed ? 'block' : 'none';\n",
              "\n",
              "      async function convertToInteractive(key) {\n",
              "        const element = document.querySelector('#df-c2fbc5f3-d361-42b8-98b2-781f7e9a3359');\n",
              "        const dataTable =\n",
              "          await google.colab.kernel.invokeFunction('convertToInteractive',\n",
              "                                                    [key], {});\n",
              "        if (!dataTable) return;\n",
              "\n",
              "        const docLinkHtml = 'Like what you see? Visit the ' +\n",
              "          '<a target=\"_blank\" href=https://colab.research.google.com/notebooks/data_table.ipynb>data table notebook</a>'\n",
              "          + ' to learn more about interactive tables.';\n",
              "        element.innerHTML = '';\n",
              "        dataTable['output_type'] = 'display_data';\n",
              "        await google.colab.output.renderOutput(dataTable, element);\n",
              "        const docLink = document.createElement('div');\n",
              "        docLink.innerHTML = docLinkHtml;\n",
              "        element.appendChild(docLink);\n",
              "      }\n",
              "    </script>\n",
              "  </div>\n",
              "\n",
              "\n",
              "<div id=\"df-4013a2b0-ee0f-4b63-a717-e734c0d3c7c1\">\n",
              "  <button class=\"colab-df-quickchart\" onclick=\"quickchart('df-4013a2b0-ee0f-4b63-a717-e734c0d3c7c1')\"\n",
              "            title=\"Suggest charts\"\n",
              "            style=\"display:none;\">\n",
              "\n",
              "<svg xmlns=\"http://www.w3.org/2000/svg\" height=\"24px\"viewBox=\"0 0 24 24\"\n",
              "     width=\"24px\">\n",
              "    <g>\n",
              "        <path d=\"M19 3H5c-1.1 0-2 .9-2 2v14c0 1.1.9 2 2 2h14c1.1 0 2-.9 2-2V5c0-1.1-.9-2-2-2zM9 17H7v-7h2v7zm4 0h-2V7h2v10zm4 0h-2v-4h2v4z\"/>\n",
              "    </g>\n",
              "</svg>\n",
              "  </button>\n",
              "\n",
              "<style>\n",
              "  .colab-df-quickchart {\n",
              "      --bg-color: #E8F0FE;\n",
              "      --fill-color: #1967D2;\n",
              "      --hover-bg-color: #E2EBFA;\n",
              "      --hover-fill-color: #174EA6;\n",
              "      --disabled-fill-color: #AAA;\n",
              "      --disabled-bg-color: #DDD;\n",
              "  }\n",
              "\n",
              "  [theme=dark] .colab-df-quickchart {\n",
              "      --bg-color: #3B4455;\n",
              "      --fill-color: #D2E3FC;\n",
              "      --hover-bg-color: #434B5C;\n",
              "      --hover-fill-color: #FFFFFF;\n",
              "      --disabled-bg-color: #3B4455;\n",
              "      --disabled-fill-color: #666;\n",
              "  }\n",
              "\n",
              "  .colab-df-quickchart {\n",
              "    background-color: var(--bg-color);\n",
              "    border: none;\n",
              "    border-radius: 50%;\n",
              "    cursor: pointer;\n",
              "    display: none;\n",
              "    fill: var(--fill-color);\n",
              "    height: 32px;\n",
              "    padding: 0;\n",
              "    width: 32px;\n",
              "  }\n",
              "\n",
              "  .colab-df-quickchart:hover {\n",
              "    background-color: var(--hover-bg-color);\n",
              "    box-shadow: 0 1px 2px rgba(60, 64, 67, 0.3), 0 1px 3px 1px rgba(60, 64, 67, 0.15);\n",
              "    fill: var(--button-hover-fill-color);\n",
              "  }\n",
              "\n",
              "  .colab-df-quickchart-complete:disabled,\n",
              "  .colab-df-quickchart-complete:disabled:hover {\n",
              "    background-color: var(--disabled-bg-color);\n",
              "    fill: var(--disabled-fill-color);\n",
              "    box-shadow: none;\n",
              "  }\n",
              "\n",
              "  .colab-df-spinner {\n",
              "    border: 2px solid var(--fill-color);\n",
              "    border-color: transparent;\n",
              "    border-bottom-color: var(--fill-color);\n",
              "    animation:\n",
              "      spin 1s steps(1) infinite;\n",
              "  }\n",
              "\n",
              "  @keyframes spin {\n",
              "    0% {\n",
              "      border-color: transparent;\n",
              "      border-bottom-color: var(--fill-color);\n",
              "      border-left-color: var(--fill-color);\n",
              "    }\n",
              "    20% {\n",
              "      border-color: transparent;\n",
              "      border-left-color: var(--fill-color);\n",
              "      border-top-color: var(--fill-color);\n",
              "    }\n",
              "    30% {\n",
              "      border-color: transparent;\n",
              "      border-left-color: var(--fill-color);\n",
              "      border-top-color: var(--fill-color);\n",
              "      border-right-color: var(--fill-color);\n",
              "    }\n",
              "    40% {\n",
              "      border-color: transparent;\n",
              "      border-right-color: var(--fill-color);\n",
              "      border-top-color: var(--fill-color);\n",
              "    }\n",
              "    60% {\n",
              "      border-color: transparent;\n",
              "      border-right-color: var(--fill-color);\n",
              "    }\n",
              "    80% {\n",
              "      border-color: transparent;\n",
              "      border-right-color: var(--fill-color);\n",
              "      border-bottom-color: var(--fill-color);\n",
              "    }\n",
              "    90% {\n",
              "      border-color: transparent;\n",
              "      border-bottom-color: var(--fill-color);\n",
              "    }\n",
              "  }\n",
              "</style>\n",
              "\n",
              "  <script>\n",
              "    async function quickchart(key) {\n",
              "      const quickchartButtonEl =\n",
              "        document.querySelector('#' + key + ' button');\n",
              "      quickchartButtonEl.disabled = true;  // To prevent multiple clicks.\n",
              "      quickchartButtonEl.classList.add('colab-df-spinner');\n",
              "      try {\n",
              "        const charts = await google.colab.kernel.invokeFunction(\n",
              "            'suggestCharts', [key], {});\n",
              "      } catch (error) {\n",
              "        console.error('Error during call to suggestCharts:', error);\n",
              "      }\n",
              "      quickchartButtonEl.classList.remove('colab-df-spinner');\n",
              "      quickchartButtonEl.classList.add('colab-df-quickchart-complete');\n",
              "    }\n",
              "    (() => {\n",
              "      let quickchartButtonEl =\n",
              "        document.querySelector('#df-4013a2b0-ee0f-4b63-a717-e734c0d3c7c1 button');\n",
              "      quickchartButtonEl.style.display =\n",
              "        google.colab.kernel.accessAllowed ? 'block' : 'none';\n",
              "    })();\n",
              "  </script>\n",
              "</div>\n",
              "    </div>\n",
              "  </div>\n"
            ],
            "application/vnd.google.colaboratory.intrinsic+json": {
              "type": "dataframe",
              "variable_name": "data"
            }
          },
          "metadata": {},
          "execution_count": 11
        }
      ],
      "source": [
        "data.head(5)"
      ]
    },
    {
      "cell_type": "code",
      "execution_count": null,
      "id": "cea6eacc-39c3-4a2d-98ed-b260bde93c5d",
      "metadata": {
        "colab": {
          "base_uri": "https://localhost:8080/"
        },
        "id": "cea6eacc-39c3-4a2d-98ed-b260bde93c5d",
        "outputId": "a89c3070-66d4-4442-a7bf-a3e89e094cac"
      },
      "outputs": [
        {
          "output_type": "execute_result",
          "data": {
            "text/plain": [
              "(722460, 20)"
            ]
          },
          "metadata": {},
          "execution_count": 12
        }
      ],
      "source": [
        "data.shape"
      ]
    },
    {
      "cell_type": "markdown",
      "id": "6c4ac960-7bf4-47c8-99e7-890467c3196c",
      "metadata": {
        "id": "6c4ac960-7bf4-47c8-99e7-890467c3196c"
      },
      "source": [
        "### Preprocess data\n",
        "\n",
        "---"
      ]
    },
    {
      "cell_type": "code",
      "execution_count": null,
      "id": "58f513da-279d-4aaf-8ca1-1fc642f76954",
      "metadata": {
        "id": "58f513da-279d-4aaf-8ca1-1fc642f76954"
      },
      "outputs": [],
      "source": [
        "# Subset the data\n",
        "data = data.drop(columns=['production_companies','runtime','status','tagline','credits','keywords','poster_path','backdrop_path','recommendations'])"
      ]
    },
    {
      "cell_type": "code",
      "execution_count": null,
      "id": "262c9098-a40b-4798-9c8a-e1a2f54dafbe",
      "metadata": {
        "colab": {
          "base_uri": "https://localhost:8080/"
        },
        "id": "262c9098-a40b-4798-9c8a-e1a2f54dafbe",
        "outputId": "e55cf615-7950-45da-e550-6dc3f665861a"
      },
      "outputs": [
        {
          "output_type": "execute_result",
          "data": {
            "text/plain": [
              "id                        0\n",
              "title                     6\n",
              "genres               210485\n",
              "original_language         0\n",
              "overview             118340\n",
              "popularity                0\n",
              "release_date          51840\n",
              "budget                    0\n",
              "revenue                   0\n",
              "vote_average              0\n",
              "vote_count                0\n",
              "dtype: int64"
            ]
          },
          "metadata": {},
          "execution_count": 14
        }
      ],
      "source": [
        "# Distribution of null values\n",
        "data.isna().sum()"
      ]
    },
    {
      "cell_type": "code",
      "execution_count": null,
      "id": "00232cff-4b32-47e5-89b3-6d245c0eb5af",
      "metadata": {
        "colab": {
          "base_uri": "https://localhost:8080/"
        },
        "id": "00232cff-4b32-47e5-89b3-6d245c0eb5af",
        "outputId": "124292cc-6170-4df4-9e41-def737094842"
      },
      "outputs": [
        {
          "output_type": "stream",
          "name": "stderr",
          "text": [
            "<ipython-input-15-dcf5885d8de5>:3: SettingWithCopyWarning: \n",
            "A value is trying to be set on a copy of a slice from a DataFrame\n",
            "\n",
            "See the caveats in the documentation: https://pandas.pydata.org/pandas-docs/stable/user_guide/indexing.html#returning-a-view-versus-a-copy\n",
            "  data['genres'].fillna('none',inplace=True)\n"
          ]
        }
      ],
      "source": [
        "# Drop and fill in null values\n",
        "data = data.dropna(subset=['title'])\n",
        "data['genres'].fillna('none',inplace=True)\n",
        "data['overview'].fillna('no description',inplace=True)\n",
        "data['release_date'].fillna('no information',inplace=True)"
      ]
    },
    {
      "cell_type": "code",
      "execution_count": null,
      "id": "f6da386a-1dbe-4af9-a05b-4c4b28630d33",
      "metadata": {
        "id": "f6da386a-1dbe-4af9-a05b-4c4b28630d33"
      },
      "outputs": [],
      "source": [
        "# Drop data with no revenue\n",
        "data = data[data['revenue']!=0]"
      ]
    },
    {
      "cell_type": "code",
      "execution_count": null,
      "id": "c89932cf-d5de-46e7-ba24-b4ef41ccea0d",
      "metadata": {
        "colab": {
          "base_uri": "https://localhost:8080/",
          "height": 588
        },
        "id": "c89932cf-d5de-46e7-ba24-b4ef41ccea0d",
        "outputId": "8158ab78-3c04-44b0-d4a6-d42b903a846f"
      },
      "outputs": [
        {
          "output_type": "execute_result",
          "data": {
            "text/plain": [
              "       id                              title  \\\n",
              "0  615656                  Meg 2: The Trench   \n",
              "1  758323                The Pope's Exorcist   \n",
              "2  667538   Transformers: Rise of the Beasts   \n",
              "3  693134                     Dune: Part Two   \n",
              "4  640146  Ant-Man and the Wasp: Quantumania   \n",
              "\n",
              "                             genres original_language  \\\n",
              "0     Action-Science Fiction-Horror                en   \n",
              "1           Horror-Mystery-Thriller                en   \n",
              "2  Action-Adventure-Science Fiction                en   \n",
              "3         Science Fiction-Adventure                en   \n",
              "4  Action-Adventure-Science Fiction                en   \n",
              "\n",
              "                                            overview  popularity release_date  \\\n",
              "0  An exploratory dive into the deepest depths of...    8763.998   2023-08-02   \n",
              "1  Father Gabriele Amorth Chief Exorcist of the V...    5953.227   2023-04-05   \n",
              "2  When a new threat capable of destroying the en...    5409.104   2023-06-06   \n",
              "3  Follow the mythic journey of Paul Atreides as ...    4742.163   2024-02-27   \n",
              "4  Super-Hero partners Scott Lang and Hope van Dy...    4425.387   2023-02-15   \n",
              "\n",
              "        budget      revenue  vote_average  vote_count  \n",
              "0  129000000.0  352056482.0         7.079      1365.0  \n",
              "1   18000000.0   65675816.0         7.433       545.0  \n",
              "2  200000000.0  407045464.0         7.340      1007.0  \n",
              "3  190000000.0  683813734.0         8.300      2770.0  \n",
              "4  200000000.0  475766228.0         6.507      2811.0  "
            ],
            "text/html": [
              "\n",
              "  <div id=\"df-5aeb2785-834d-49c6-8bbf-3b6ddfdde252\" class=\"colab-df-container\">\n",
              "    <div>\n",
              "<style scoped>\n",
              "    .dataframe tbody tr th:only-of-type {\n",
              "        vertical-align: middle;\n",
              "    }\n",
              "\n",
              "    .dataframe tbody tr th {\n",
              "        vertical-align: top;\n",
              "    }\n",
              "\n",
              "    .dataframe thead th {\n",
              "        text-align: right;\n",
              "    }\n",
              "</style>\n",
              "<table border=\"1\" class=\"dataframe\">\n",
              "  <thead>\n",
              "    <tr style=\"text-align: right;\">\n",
              "      <th></th>\n",
              "      <th>id</th>\n",
              "      <th>title</th>\n",
              "      <th>genres</th>\n",
              "      <th>original_language</th>\n",
              "      <th>overview</th>\n",
              "      <th>popularity</th>\n",
              "      <th>release_date</th>\n",
              "      <th>budget</th>\n",
              "      <th>revenue</th>\n",
              "      <th>vote_average</th>\n",
              "      <th>vote_count</th>\n",
              "    </tr>\n",
              "  </thead>\n",
              "  <tbody>\n",
              "    <tr>\n",
              "      <th>0</th>\n",
              "      <td>615656</td>\n",
              "      <td>Meg 2: The Trench</td>\n",
              "      <td>Action-Science Fiction-Horror</td>\n",
              "      <td>en</td>\n",
              "      <td>An exploratory dive into the deepest depths of...</td>\n",
              "      <td>8763.998</td>\n",
              "      <td>2023-08-02</td>\n",
              "      <td>129000000.0</td>\n",
              "      <td>352056482.0</td>\n",
              "      <td>7.079</td>\n",
              "      <td>1365.0</td>\n",
              "    </tr>\n",
              "    <tr>\n",
              "      <th>1</th>\n",
              "      <td>758323</td>\n",
              "      <td>The Pope's Exorcist</td>\n",
              "      <td>Horror-Mystery-Thriller</td>\n",
              "      <td>en</td>\n",
              "      <td>Father Gabriele Amorth Chief Exorcist of the V...</td>\n",
              "      <td>5953.227</td>\n",
              "      <td>2023-04-05</td>\n",
              "      <td>18000000.0</td>\n",
              "      <td>65675816.0</td>\n",
              "      <td>7.433</td>\n",
              "      <td>545.0</td>\n",
              "    </tr>\n",
              "    <tr>\n",
              "      <th>2</th>\n",
              "      <td>667538</td>\n",
              "      <td>Transformers: Rise of the Beasts</td>\n",
              "      <td>Action-Adventure-Science Fiction</td>\n",
              "      <td>en</td>\n",
              "      <td>When a new threat capable of destroying the en...</td>\n",
              "      <td>5409.104</td>\n",
              "      <td>2023-06-06</td>\n",
              "      <td>200000000.0</td>\n",
              "      <td>407045464.0</td>\n",
              "      <td>7.340</td>\n",
              "      <td>1007.0</td>\n",
              "    </tr>\n",
              "    <tr>\n",
              "      <th>3</th>\n",
              "      <td>693134</td>\n",
              "      <td>Dune: Part Two</td>\n",
              "      <td>Science Fiction-Adventure</td>\n",
              "      <td>en</td>\n",
              "      <td>Follow the mythic journey of Paul Atreides as ...</td>\n",
              "      <td>4742.163</td>\n",
              "      <td>2024-02-27</td>\n",
              "      <td>190000000.0</td>\n",
              "      <td>683813734.0</td>\n",
              "      <td>8.300</td>\n",
              "      <td>2770.0</td>\n",
              "    </tr>\n",
              "    <tr>\n",
              "      <th>4</th>\n",
              "      <td>640146</td>\n",
              "      <td>Ant-Man and the Wasp: Quantumania</td>\n",
              "      <td>Action-Adventure-Science Fiction</td>\n",
              "      <td>en</td>\n",
              "      <td>Super-Hero partners Scott Lang and Hope van Dy...</td>\n",
              "      <td>4425.387</td>\n",
              "      <td>2023-02-15</td>\n",
              "      <td>200000000.0</td>\n",
              "      <td>475766228.0</td>\n",
              "      <td>6.507</td>\n",
              "      <td>2811.0</td>\n",
              "    </tr>\n",
              "  </tbody>\n",
              "</table>\n",
              "</div>\n",
              "    <div class=\"colab-df-buttons\">\n",
              "\n",
              "  <div class=\"colab-df-container\">\n",
              "    <button class=\"colab-df-convert\" onclick=\"convertToInteractive('df-5aeb2785-834d-49c6-8bbf-3b6ddfdde252')\"\n",
              "            title=\"Convert this dataframe to an interactive table.\"\n",
              "            style=\"display:none;\">\n",
              "\n",
              "  <svg xmlns=\"http://www.w3.org/2000/svg\" height=\"24px\" viewBox=\"0 -960 960 960\">\n",
              "    <path d=\"M120-120v-720h720v720H120Zm60-500h600v-160H180v160Zm220 220h160v-160H400v160Zm0 220h160v-160H400v160ZM180-400h160v-160H180v160Zm440 0h160v-160H620v160ZM180-180h160v-160H180v160Zm440 0h160v-160H620v160Z\"/>\n",
              "  </svg>\n",
              "    </button>\n",
              "\n",
              "  <style>\n",
              "    .colab-df-container {\n",
              "      display:flex;\n",
              "      gap: 12px;\n",
              "    }\n",
              "\n",
              "    .colab-df-convert {\n",
              "      background-color: #E8F0FE;\n",
              "      border: none;\n",
              "      border-radius: 50%;\n",
              "      cursor: pointer;\n",
              "      display: none;\n",
              "      fill: #1967D2;\n",
              "      height: 32px;\n",
              "      padding: 0 0 0 0;\n",
              "      width: 32px;\n",
              "    }\n",
              "\n",
              "    .colab-df-convert:hover {\n",
              "      background-color: #E2EBFA;\n",
              "      box-shadow: 0px 1px 2px rgba(60, 64, 67, 0.3), 0px 1px 3px 1px rgba(60, 64, 67, 0.15);\n",
              "      fill: #174EA6;\n",
              "    }\n",
              "\n",
              "    .colab-df-buttons div {\n",
              "      margin-bottom: 4px;\n",
              "    }\n",
              "\n",
              "    [theme=dark] .colab-df-convert {\n",
              "      background-color: #3B4455;\n",
              "      fill: #D2E3FC;\n",
              "    }\n",
              "\n",
              "    [theme=dark] .colab-df-convert:hover {\n",
              "      background-color: #434B5C;\n",
              "      box-shadow: 0px 1px 3px 1px rgba(0, 0, 0, 0.15);\n",
              "      filter: drop-shadow(0px 1px 2px rgba(0, 0, 0, 0.3));\n",
              "      fill: #FFFFFF;\n",
              "    }\n",
              "  </style>\n",
              "\n",
              "    <script>\n",
              "      const buttonEl =\n",
              "        document.querySelector('#df-5aeb2785-834d-49c6-8bbf-3b6ddfdde252 button.colab-df-convert');\n",
              "      buttonEl.style.display =\n",
              "        google.colab.kernel.accessAllowed ? 'block' : 'none';\n",
              "\n",
              "      async function convertToInteractive(key) {\n",
              "        const element = document.querySelector('#df-5aeb2785-834d-49c6-8bbf-3b6ddfdde252');\n",
              "        const dataTable =\n",
              "          await google.colab.kernel.invokeFunction('convertToInteractive',\n",
              "                                                    [key], {});\n",
              "        if (!dataTable) return;\n",
              "\n",
              "        const docLinkHtml = 'Like what you see? Visit the ' +\n",
              "          '<a target=\"_blank\" href=https://colab.research.google.com/notebooks/data_table.ipynb>data table notebook</a>'\n",
              "          + ' to learn more about interactive tables.';\n",
              "        element.innerHTML = '';\n",
              "        dataTable['output_type'] = 'display_data';\n",
              "        await google.colab.output.renderOutput(dataTable, element);\n",
              "        const docLink = document.createElement('div');\n",
              "        docLink.innerHTML = docLinkHtml;\n",
              "        element.appendChild(docLink);\n",
              "      }\n",
              "    </script>\n",
              "  </div>\n",
              "\n",
              "\n",
              "<div id=\"df-581487e7-a116-46e7-9fb0-45b8044cab73\">\n",
              "  <button class=\"colab-df-quickchart\" onclick=\"quickchart('df-581487e7-a116-46e7-9fb0-45b8044cab73')\"\n",
              "            title=\"Suggest charts\"\n",
              "            style=\"display:none;\">\n",
              "\n",
              "<svg xmlns=\"http://www.w3.org/2000/svg\" height=\"24px\"viewBox=\"0 0 24 24\"\n",
              "     width=\"24px\">\n",
              "    <g>\n",
              "        <path d=\"M19 3H5c-1.1 0-2 .9-2 2v14c0 1.1.9 2 2 2h14c1.1 0 2-.9 2-2V5c0-1.1-.9-2-2-2zM9 17H7v-7h2v7zm4 0h-2V7h2v10zm4 0h-2v-4h2v4z\"/>\n",
              "    </g>\n",
              "</svg>\n",
              "  </button>\n",
              "\n",
              "<style>\n",
              "  .colab-df-quickchart {\n",
              "      --bg-color: #E8F0FE;\n",
              "      --fill-color: #1967D2;\n",
              "      --hover-bg-color: #E2EBFA;\n",
              "      --hover-fill-color: #174EA6;\n",
              "      --disabled-fill-color: #AAA;\n",
              "      --disabled-bg-color: #DDD;\n",
              "  }\n",
              "\n",
              "  [theme=dark] .colab-df-quickchart {\n",
              "      --bg-color: #3B4455;\n",
              "      --fill-color: #D2E3FC;\n",
              "      --hover-bg-color: #434B5C;\n",
              "      --hover-fill-color: #FFFFFF;\n",
              "      --disabled-bg-color: #3B4455;\n",
              "      --disabled-fill-color: #666;\n",
              "  }\n",
              "\n",
              "  .colab-df-quickchart {\n",
              "    background-color: var(--bg-color);\n",
              "    border: none;\n",
              "    border-radius: 50%;\n",
              "    cursor: pointer;\n",
              "    display: none;\n",
              "    fill: var(--fill-color);\n",
              "    height: 32px;\n",
              "    padding: 0;\n",
              "    width: 32px;\n",
              "  }\n",
              "\n",
              "  .colab-df-quickchart:hover {\n",
              "    background-color: var(--hover-bg-color);\n",
              "    box-shadow: 0 1px 2px rgba(60, 64, 67, 0.3), 0 1px 3px 1px rgba(60, 64, 67, 0.15);\n",
              "    fill: var(--button-hover-fill-color);\n",
              "  }\n",
              "\n",
              "  .colab-df-quickchart-complete:disabled,\n",
              "  .colab-df-quickchart-complete:disabled:hover {\n",
              "    background-color: var(--disabled-bg-color);\n",
              "    fill: var(--disabled-fill-color);\n",
              "    box-shadow: none;\n",
              "  }\n",
              "\n",
              "  .colab-df-spinner {\n",
              "    border: 2px solid var(--fill-color);\n",
              "    border-color: transparent;\n",
              "    border-bottom-color: var(--fill-color);\n",
              "    animation:\n",
              "      spin 1s steps(1) infinite;\n",
              "  }\n",
              "\n",
              "  @keyframes spin {\n",
              "    0% {\n",
              "      border-color: transparent;\n",
              "      border-bottom-color: var(--fill-color);\n",
              "      border-left-color: var(--fill-color);\n",
              "    }\n",
              "    20% {\n",
              "      border-color: transparent;\n",
              "      border-left-color: var(--fill-color);\n",
              "      border-top-color: var(--fill-color);\n",
              "    }\n",
              "    30% {\n",
              "      border-color: transparent;\n",
              "      border-left-color: var(--fill-color);\n",
              "      border-top-color: var(--fill-color);\n",
              "      border-right-color: var(--fill-color);\n",
              "    }\n",
              "    40% {\n",
              "      border-color: transparent;\n",
              "      border-right-color: var(--fill-color);\n",
              "      border-top-color: var(--fill-color);\n",
              "    }\n",
              "    60% {\n",
              "      border-color: transparent;\n",
              "      border-right-color: var(--fill-color);\n",
              "    }\n",
              "    80% {\n",
              "      border-color: transparent;\n",
              "      border-right-color: var(--fill-color);\n",
              "      border-bottom-color: var(--fill-color);\n",
              "    }\n",
              "    90% {\n",
              "      border-color: transparent;\n",
              "      border-bottom-color: var(--fill-color);\n",
              "    }\n",
              "  }\n",
              "</style>\n",
              "\n",
              "  <script>\n",
              "    async function quickchart(key) {\n",
              "      const quickchartButtonEl =\n",
              "        document.querySelector('#' + key + ' button');\n",
              "      quickchartButtonEl.disabled = true;  // To prevent multiple clicks.\n",
              "      quickchartButtonEl.classList.add('colab-df-spinner');\n",
              "      try {\n",
              "        const charts = await google.colab.kernel.invokeFunction(\n",
              "            'suggestCharts', [key], {});\n",
              "      } catch (error) {\n",
              "        console.error('Error during call to suggestCharts:', error);\n",
              "      }\n",
              "      quickchartButtonEl.classList.remove('colab-df-spinner');\n",
              "      quickchartButtonEl.classList.add('colab-df-quickchart-complete');\n",
              "    }\n",
              "    (() => {\n",
              "      let quickchartButtonEl =\n",
              "        document.querySelector('#df-581487e7-a116-46e7-9fb0-45b8044cab73 button');\n",
              "      quickchartButtonEl.style.display =\n",
              "        google.colab.kernel.accessAllowed ? 'block' : 'none';\n",
              "    })();\n",
              "  </script>\n",
              "</div>\n",
              "    </div>\n",
              "  </div>\n"
            ],
            "application/vnd.google.colaboratory.intrinsic+json": {
              "type": "dataframe",
              "variable_name": "data",
              "summary": "{\n  \"name\": \"data\",\n  \"rows\": 17102,\n  \"fields\": [\n    {\n      \"column\": \"id\",\n      \"properties\": {\n        \"dtype\": \"number\",\n        \"std\": 275632,\n        \"min\": 5,\n        \"max\": 968051,\n        \"num_unique_values\": 16402,\n        \"samples\": [\n          417830,\n          374020,\n          825545\n        ],\n        \"semantic_type\": \"\",\n        \"description\": \"\"\n      }\n    },\n    {\n      \"column\": \"title\",\n      \"properties\": {\n        \"dtype\": \"string\",\n        \"num_unique_values\": 15864,\n        \"samples\": [\n          \"Juna\",\n          \"Robots\",\n          \"Waterworld\"\n        ],\n        \"semantic_type\": \"\",\n        \"description\": \"\"\n      }\n    },\n    {\n      \"column\": \"genres\",\n      \"properties\": {\n        \"dtype\": \"category\",\n        \"num_unique_values\": 2562,\n        \"samples\": [\n          \"Comedy-Drama-Adventure\",\n          \"Western-Adventure-Drama-Action\",\n          \"Drama-Fantasy-Mystery-Romance\"\n        ],\n        \"semantic_type\": \"\",\n        \"description\": \"\"\n      }\n    },\n    {\n      \"column\": \"original_language\",\n      \"properties\": {\n        \"dtype\": \"category\",\n        \"num_unique_values\": 88,\n        \"samples\": [\n          \"zu\",\n          \"en\",\n          \"nb\"\n        ],\n        \"semantic_type\": \"\",\n        \"description\": \"\"\n      }\n    },\n    {\n      \"column\": \"overview\",\n      \"properties\": {\n        \"dtype\": \"string\",\n        \"num_unique_values\": 15819,\n        \"samples\": [\n          \"A comic caper about Happy Singh a Punjabi villager who goes through a series of misadventures and eventually becomes the King of the Australian underworld.\",\n          \"Paranormal investigators Ed and Lorraine Warren work to help a family terrorized by a dark presence in their farmhouse. Forced to confront a powerful entity the Warrens find themselves caught in the most terrifying case of their lives.\",\n          \"On the streets they call cash dead presidents. And that's just what a Vietnam veteran is after when he returns home from the war only to find himself drawn into a life of crime. With the aid of his fellow vets he plans the ultimate heist -- a daring robbery of an armored car filled with unmarked U.S. currency!\"\n        ],\n        \"semantic_type\": \"\",\n        \"description\": \"\"\n      }\n    },\n    {\n      \"column\": \"popularity\",\n      \"properties\": {\n        \"dtype\": \"number\",\n        \"std\": 128.31837162491317,\n        \"min\": 0.6,\n        \"max\": 8763.998,\n        \"num_unique_values\": 11359,\n        \"samples\": [\n          194.971,\n          1.106,\n          14.479\n        ],\n        \"semantic_type\": \"\",\n        \"description\": \"\"\n      }\n    },\n    {\n      \"column\": \"release_date\",\n      \"properties\": {\n        \"dtype\": \"category\",\n        \"num_unique_values\": 8085,\n        \"samples\": [\n          \"2014-06-13\",\n          \"2012-09-12\",\n          \"1954-02-05\"\n        ],\n        \"semantic_type\": \"\",\n        \"description\": \"\"\n      }\n    },\n    {\n      \"column\": \"budget\",\n      \"properties\": {\n        \"dtype\": \"number\",\n        \"std\": 50054093.24587368,\n        \"min\": 0.0,\n        \"max\": 5000000000.0,\n        \"num_unique_values\": 1833,\n        \"samples\": [\n          929868.0,\n          250071.0,\n          475000.0\n        ],\n        \"semantic_type\": \"\",\n        \"description\": \"\"\n      }\n    },\n    {\n      \"column\": \"revenue\",\n      \"properties\": {\n        \"dtype\": \"number\",\n        \"std\": 125441313.15440235,\n        \"min\": -12.0,\n        \"max\": 2920357254.0,\n        \"num_unique_values\": 13002,\n        \"samples\": [\n          63523283.0,\n          1228051.0,\n          48911.0\n        ],\n        \"semantic_type\": \"\",\n        \"description\": \"\"\n      }\n    },\n    {\n      \"column\": \"vote_average\",\n      \"properties\": {\n        \"dtype\": \"number\",\n        \"std\": 2.2011170788021466,\n        \"min\": 0.0,\n        \"max\": 10.0,\n        \"num_unique_values\": 1994,\n        \"samples\": [\n          6.195,\n          7.41,\n          6.444\n        ],\n        \"semantic_type\": \"\",\n        \"description\": \"\"\n      }\n    },\n    {\n      \"column\": \"vote_count\",\n      \"properties\": {\n        \"dtype\": \"number\",\n        \"std\": 2338.0479539104876,\n        \"min\": 0.0,\n        \"max\": 33262.0,\n        \"num_unique_values\": 3400,\n        \"samples\": [\n          1202.0,\n          1467.0,\n          142.0\n        ],\n        \"semantic_type\": \"\",\n        \"description\": \"\"\n      }\n    }\n  ]\n}"
            }
          },
          "metadata": {},
          "execution_count": 17
        }
      ],
      "source": [
        "# Final data format\n",
        "data.head(5)"
      ]
    },
    {
      "cell_type": "code",
      "execution_count": null,
      "id": "5a00098e-97b5-45a0-a05f-0051e9c7bfc3",
      "metadata": {
        "colab": {
          "base_uri": "https://localhost:8080/"
        },
        "id": "5a00098e-97b5-45a0-a05f-0051e9c7bfc3",
        "outputId": "e3af9264-3acd-4664-f25d-7afb5ade48fb"
      },
      "outputs": [
        {
          "output_type": "execute_result",
          "data": {
            "text/plain": [
              "(17102, 11)"
            ]
          },
          "metadata": {},
          "execution_count": 18
        }
      ],
      "source": [
        "data.shape"
      ]
    },
    {
      "cell_type": "code",
      "execution_count": null,
      "id": "01f13228-cc02-458c-8bc9-9bc03bc330b8",
      "metadata": {
        "id": "01f13228-cc02-458c-8bc9-9bc03bc330b8"
      },
      "outputs": [],
      "source": [
        "# Save the preprocessed dataset as CSV\n",
        "# data.to_csv('datasets/clean_movies.csv',index=False)"
      ]
    },
    {
      "cell_type": "markdown",
      "id": "41e69a80-fbb4-4194-aeab-81d9355d7f9b",
      "metadata": {
        "id": "41e69a80-fbb4-4194-aeab-81d9355d7f9b"
      },
      "source": [
        "### Explore the data\n",
        "\n",
        "---"
      ]
    },
    {
      "cell_type": "code",
      "execution_count": null,
      "id": "3bc43c30-9d49-4352-bde1-1fe782c6727b",
      "metadata": {
        "colab": {
          "base_uri": "https://localhost:8080/"
        },
        "id": "3bc43c30-9d49-4352-bde1-1fe782c6727b",
        "outputId": "3f59fbe8-a950-4a67-e126-eac47c4373e3"
      },
      "outputs": [
        {
          "output_type": "execute_result",
          "data": {
            "text/plain": [
              "{'Documentary': 742,\n",
              " 'Family': 1486,\n",
              " 'Western': 215,\n",
              " 'none': 656,\n",
              " 'Mystery': 1181,\n",
              " 'War': 500,\n",
              " 'Fantasy': 1316,\n",
              " 'History': 734,\n",
              " 'Romance': 2958,\n",
              " 'Adventure': 2161,\n",
              " 'Crime': 2056,\n",
              " 'Science Fiction': 1303,\n",
              " 'Action': 3480,\n",
              " 'Animation': 1037,\n",
              " 'Thriller': 3347,\n",
              " 'Comedy': 5718,\n",
              " 'Horror': 1760,\n",
              " 'TV Movie': 41,\n",
              " 'Music': 667,\n",
              " 'Drama': 7822}"
            ]
          },
          "metadata": {},
          "execution_count": 21
        }
      ],
      "source": [
        "# Fetch genre counts in the data\n",
        "genres_raw = '-'.join(list(data['genres'])).split('-')\n",
        "genres_ls = set(genres_raw)\n",
        "genre_occurrences = {genre: genres_raw.count(genre) for genre in genres_ls}\n",
        "genre_occurrences"
      ]
    },
    {
      "cell_type": "code",
      "execution_count": null,
      "id": "c4bc6753-f688-4c65-9b04-1f61690ae595",
      "metadata": {
        "colab": {
          "base_uri": "https://localhost:8080/",
          "height": 533
        },
        "id": "c4bc6753-f688-4c65-9b04-1f61690ae595",
        "outputId": "8ce6c1de-3162-490d-b370-79e243aff5c5"
      },
      "outputs": [
        {
          "output_type": "display_data",
          "data": {
            "text/plain": [
              "<Figure size 640x480 with 1 Axes>"
            ],
            "image/png": "[encoded data removed]"
          },
          "metadata": {}
        }
      ],
      "source": [
        "# Visualize the occurences of each genre in the data.\n",
        "genres_dist = plt.bar(genre_occurrences.keys(),genre_occurrences.values(),color='darkseagreen')\n",
        "plt.xticks(rotation=45, ha='right',fontsize=9)\n",
        "plt.xlabel('Genre')\n",
        "plt.ylabel('Count')\n",
        "plt.title('Genre Occurrence Counts')\n",
        "plt.show()"
      ]
    },
    {
      "cell_type": "markdown",
      "id": "b15eacfc-d261-4cb2-ace0-6ec3b2ff9588",
      "metadata": {
        "id": "b15eacfc-d261-4cb2-ace0-6ec3b2ff9588"
      },
      "source": [
        "The top five most popular genres in this dataset are drama, comedy, action, thriller, and romance."
      ]
    },
    {
      "cell_type": "code",
      "execution_count": null,
      "id": "5aacaaa9-ec5a-42ea-9acb-728064fbdf36",
      "metadata": {
        "colab": {
          "base_uri": "https://localhost:8080/"
        },
        "id": "5aacaaa9-ec5a-42ea-9acb-728064fbdf36",
        "outputId": "94d2250e-fa3e-4d81-f45e-92c54af57e3b"
      },
      "outputs": [
        {
          "output_type": "stream",
          "name": "stdout",
          "text": [
            "There are 88 different languages in this dataset.\n",
            "These languages are: ['en', 'fi', 'es', 'ja', 'fr', 'zh', 'cn', 'hi', 'ko', 'te', 'ru', 'pt', 'it', 'de', 'th', 'sr', 'no', 'tr', 'pl', 'id', 'sv', 'ga', 'da', 'ar', 'is', 'fa', 'nb', 'mk', 'tl', 'cs', 'el', 'uk', 'kn', 'la', 'ro', 'he', 'vi', 'hu', 'bn', 'ms', 'nl', 'ta', 'sk', 'ka', 'ml', 'hr', 'et', 'sw', 'ca', 'af', 'mi', 'sl', 'cy', 'ur', 'gl', 'ku', 'rw', 'am', 'iu', 'bg', 'xh', 'mr', 'hy', 'pa', 'bm', 'ne', 'eu', 'lt', 'gu', 'az', 'be', 'si', 'km', 'dz', 'xx', 'jv', 'zu', 'tg', 'sq', 'bs', 'lv', 'mo', 'lg', 'or', 'mn', 'ab', 'ht', 'dv'].\n"
          ]
        }
      ],
      "source": [
        "# Explore languages\n",
        "print(f\"There are {data['original_language'].nunique()} different languages in this dataset.\")\n",
        "print(f\"These languages are: {data['original_language'].unique().tolist()}.\")"
      ]
    },
    {
      "cell_type": "code",
      "execution_count": null,
      "id": "9e647273-d937-4f2c-bf59-88d928743059",
      "metadata": {
        "colab": {
          "base_uri": "https://localhost:8080/"
        },
        "id": "9e647273-d937-4f2c-bf59-88d928743059",
        "outputId": "db79a7b0-2d5e-43f0-e773-6d886516cab2"
      },
      "outputs": [
        {
          "output_type": "execute_result",
          "data": {
            "text/plain": [
              "17102"
            ]
          },
          "metadata": {},
          "execution_count": 24
        }
      ],
      "source": [
        "# Distribution of languages\n",
        "data['original_language'].value_counts().sum()"
      ]
    },
    {
      "cell_type": "markdown",
      "id": "8b8d19d1-970e-4abc-a2d9-654fc752509f",
      "metadata": {
        "id": "8b8d19d1-970e-4abc-a2d9-654fc752509f"
      },
      "source": [
        "The most popular language in this dataset is English with 11380 movies. The other languages following this are Spanish (712), French (584), Japanese (463), and Russian (436)."
      ]
    },
    {
      "cell_type": "code",
      "execution_count": null,
      "id": "447f68a1-ff9a-4b79-b52d-87d98738c87b",
      "metadata": {
        "colab": {
          "base_uri": "https://localhost:8080/",
          "height": 167
        },
        "id": "447f68a1-ff9a-4b79-b52d-87d98738c87b",
        "outputId": "26e95ae9-1fd1-47a8-ceb9-0903cefff969"
      },
      "outputs": [
        {
          "output_type": "stream",
          "name": "stdout",
          "text": [
            "The lowest popularity score is 0.6.\n",
            "The highest popularity score is 8763.998.\n"
          ]
        },
        {
          "output_type": "execute_result",
          "data": {
            "text/plain": [
              "       id              title                         genres original_language  \\\n",
              "0  615656  Meg 2: The Trench  Action-Science Fiction-Horror                en   \n",
              "\n",
              "                                            overview  popularity release_date  \\\n",
              "0  An exploratory dive into the deepest depths of...    8763.998   2023-08-02   \n",
              "\n",
              "        budget      revenue  vote_average  vote_count  \n",
              "0  129000000.0  352056482.0         7.079      1365.0  "
            ],
            "text/html": [
              "\n",
              "  <div id=\"df-87c881ba-7f7e-4192-87cf-743b12273bbc\" class=\"colab-df-container\">\n",
              "    <div>\n",
              "<style scoped>\n",
              "    .dataframe tbody tr th:only-of-type {\n",
              "        vertical-align: middle;\n",
              "    }\n",
              "\n",
              "    .dataframe tbody tr th {\n",
              "        vertical-align: top;\n",
              "    }\n",
              "\n",
              "    .dataframe thead th {\n",
              "        text-align: right;\n",
              "    }\n",
              "</style>\n",
              "<table border=\"1\" class=\"dataframe\">\n",
              "  <thead>\n",
              "    <tr style=\"text-align: right;\">\n",
              "      <th></th>\n",
              "      <th>id</th>\n",
              "      <th>title</th>\n",
              "      <th>genres</th>\n",
              "      <th>original_language</th>\n",
              "      <th>overview</th>\n",
              "      <th>popularity</th>\n",
              "      <th>release_date</th>\n",
              "      <th>budget</th>\n",
              "      <th>revenue</th>\n",
              "      <th>vote_average</th>\n",
              "      <th>vote_count</th>\n",
              "    </tr>\n",
              "  </thead>\n",
              "  <tbody>\n",
              "    <tr>\n",
              "      <th>0</th>\n",
              "      <td>615656</td>\n",
              "      <td>Meg 2: The Trench</td>\n",
              "      <td>Action-Science Fiction-Horror</td>\n",
              "      <td>en</td>\n",
              "      <td>An exploratory dive into the deepest depths of...</td>\n",
              "      <td>8763.998</td>\n",
              "      <td>2023-08-02</td>\n",
              "      <td>129000000.0</td>\n",
              "      <td>352056482.0</td>\n",
              "      <td>7.079</td>\n",
              "      <td>1365.0</td>\n",
              "    </tr>\n",
              "  </tbody>\n",
              "</table>\n",
              "</div>\n",
              "    <div class=\"colab-df-buttons\">\n",
              "\n",
              "  <div class=\"colab-df-container\">\n",
              "    <button class=\"colab-df-convert\" onclick=\"convertToInteractive('df-87c881ba-7f7e-4192-87cf-743b12273bbc')\"\n",
              "            title=\"Convert this dataframe to an interactive table.\"\n",
              "            style=\"display:none;\">\n",
              "\n",
              "  <svg xmlns=\"http://www.w3.org/2000/svg\" height=\"24px\" viewBox=\"0 -960 960 960\">\n",
              "    <path d=\"M120-120v-720h720v720H120Zm60-500h600v-160H180v160Zm220 220h160v-160H400v160Zm0 220h160v-160H400v160ZM180-400h160v-160H180v160Zm440 0h160v-160H620v160ZM180-180h160v-160H180v160Zm440 0h160v-160H620v160Z\"/>\n",
              "  </svg>\n",
              "    </button>\n",
              "\n",
              "  <style>\n",
              "    .colab-df-container {\n",
              "      display:flex;\n",
              "      gap: 12px;\n",
              "    }\n",
              "\n",
              "    .colab-df-convert {\n",
              "      background-color: #E8F0FE;\n",
              "      border: none;\n",
              "      border-radius: 50%;\n",
              "      cursor: pointer;\n",
              "      display: none;\n",
              "      fill: #1967D2;\n",
              "      height: 32px;\n",
              "      padding: 0 0 0 0;\n",
              "      width: 32px;\n",
              "    }\n",
              "\n",
              "    .colab-df-convert:hover {\n",
              "      background-color: #E2EBFA;\n",
              "      box-shadow: 0px 1px 2px rgba(60, 64, 67, 0.3), 0px 1px 3px 1px rgba(60, 64, 67, 0.15);\n",
              "      fill: #174EA6;\n",
              "    }\n",
              "\n",
              "    .colab-df-buttons div {\n",
              "      margin-bottom: 4px;\n",
              "    }\n",
              "\n",
              "    [theme=dark] .colab-df-convert {\n",
              "      background-color: #3B4455;\n",
              "      fill: #D2E3FC;\n",
              "    }\n",
              "\n",
              "    [theme=dark] .colab-df-convert:hover {\n",
              "      background-color: #434B5C;\n",
              "      box-shadow: 0px 1px 3px 1px rgba(0, 0, 0, 0.15);\n",
              "      filter: drop-shadow(0px 1px 2px rgba(0, 0, 0, 0.3));\n",
              "      fill: #FFFFFF;\n",
              "    }\n",
              "  </style>\n",
              "\n",
              "    <script>\n",
              "      const buttonEl =\n",
              "        document.querySelector('#df-87c881ba-7f7e-4192-87cf-743b12273bbc button.colab-df-convert');\n",
              "      buttonEl.style.display =\n",
              "        google.colab.kernel.accessAllowed ? 'block' : 'none';\n",
              "\n",
              "      async function convertToInteractive(key) {\n",
              "        const element = document.querySelector('#df-87c881ba-7f7e-4192-87cf-743b12273bbc');\n",
              "        const dataTable =\n",
              "          await google.colab.kernel.invokeFunction('convertToInteractive',\n",
              "                                                    [key], {});\n",
              "        if (!dataTable) return;\n",
              "\n",
              "        const docLinkHtml = 'Like what you see? Visit the ' +\n",
              "          '<a target=\"_blank\" href=https://colab.research.google.com/notebooks/data_table.ipynb>data table notebook</a>'\n",
              "          + ' to learn more about interactive tables.';\n",
              "        element.innerHTML = '';\n",
              "        dataTable['output_type'] = 'display_data';\n",
              "        await google.colab.output.renderOutput(dataTable, element);\n",
              "        const docLink = document.createElement('div');\n",
              "        docLink.innerHTML = docLinkHtml;\n",
              "        element.appendChild(docLink);\n",
              "      }\n",
              "    </script>\n",
              "  </div>\n",
              "\n",
              "    </div>\n",
              "  </div>\n"
            ],
            "application/vnd.google.colaboratory.intrinsic+json": {
              "type": "dataframe",
              "summary": "{\n  \"name\": \"data[data['popularity']== data['popularity']\",\n  \"rows\": 1,\n  \"fields\": [\n    {\n      \"column\": \"id\",\n      \"properties\": {\n        \"dtype\": \"number\",\n        \"std\": null,\n        \"min\": 615656,\n        \"max\": 615656,\n        \"num_unique_values\": 1,\n        \"samples\": [\n          615656\n        ],\n        \"semantic_type\": \"\",\n        \"description\": \"\"\n      }\n    },\n    {\n      \"column\": \"title\",\n      \"properties\": {\n        \"dtype\": \"string\",\n        \"num_unique_values\": 1,\n        \"samples\": [\n          \"Meg 2: The Trench\"\n        ],\n        \"semantic_type\": \"\",\n        \"description\": \"\"\n      }\n    },\n    {\n      \"column\": \"genres\",\n      \"properties\": {\n        \"dtype\": \"string\",\n        \"num_unique_values\": 1,\n        \"samples\": [\n          \"Action-Science Fiction-Horror\"\n        ],\n        \"semantic_type\": \"\",\n        \"description\": \"\"\n      }\n    },\n    {\n      \"column\": \"original_language\",\n      \"properties\": {\n        \"dtype\": \"string\",\n        \"num_unique_values\": 1,\n        \"samples\": [\n          \"en\"\n        ],\n        \"semantic_type\": \"\",\n        \"description\": \"\"\n      }\n    },\n    {\n      \"column\": \"overview\",\n      \"properties\": {\n        \"dtype\": \"string\",\n        \"num_unique_values\": 1,\n        \"samples\": [\n          \"An exploratory dive into the deepest depths of the ocean of a daring research team spirals into chaos when a malevolent mining operation threatens their mission and forces them into a high-stakes battle for survival.\"\n        ],\n        \"semantic_type\": \"\",\n        \"description\": \"\"\n      }\n    },\n    {\n      \"column\": \"popularity\",\n      \"properties\": {\n        \"dtype\": \"number\",\n        \"std\": null,\n        \"min\": 8763.998,\n        \"max\": 8763.998,\n        \"num_unique_values\": 1,\n        \"samples\": [\n          8763.998\n        ],\n        \"semantic_type\": \"\",\n        \"description\": \"\"\n      }\n    },\n    {\n      \"column\": \"release_date\",\n      \"properties\": {\n        \"dtype\": \"object\",\n        \"num_unique_values\": 1,\n        \"samples\": [\n          \"2023-08-02\"\n        ],\n        \"semantic_type\": \"\",\n        \"description\": \"\"\n      }\n    },\n    {\n      \"column\": \"budget\",\n      \"properties\": {\n        \"dtype\": \"number\",\n        \"std\": null,\n        \"min\": 129000000.0,\n        \"max\": 129000000.0,\n        \"num_unique_values\": 1,\n        \"samples\": [\n          129000000.0\n        ],\n        \"semantic_type\": \"\",\n        \"description\": \"\"\n      }\n    },\n    {\n      \"column\": \"revenue\",\n      \"properties\": {\n        \"dtype\": \"number\",\n        \"std\": null,\n        \"min\": 352056482.0,\n        \"max\": 352056482.0,\n        \"num_unique_values\": 1,\n        \"samples\": [\n          352056482.0\n        ],\n        \"semantic_type\": \"\",\n        \"description\": \"\"\n      }\n    },\n    {\n      \"column\": \"vote_average\",\n      \"properties\": {\n        \"dtype\": \"number\",\n        \"std\": null,\n        \"min\": 7.079,\n        \"max\": 7.079,\n        \"num_unique_values\": 1,\n        \"samples\": [\n          7.079\n        ],\n        \"semantic_type\": \"\",\n        \"description\": \"\"\n      }\n    },\n    {\n      \"column\": \"vote_count\",\n      \"properties\": {\n        \"dtype\": \"number\",\n        \"std\": null,\n        \"min\": 1365.0,\n        \"max\": 1365.0,\n        \"num_unique_values\": 1,\n        \"samples\": [\n          1365.0\n        ],\n        \"semantic_type\": \"\",\n        \"description\": \"\"\n      }\n    }\n  ]\n}"
            }
          },
          "metadata": {},
          "execution_count": 25
        }
      ],
      "source": [
        "# Explore popularity\n",
        "print(f\"The lowest popularity score is {data['popularity'].min()}.\")\n",
        "print(f\"The highest popularity score is {data['popularity'].max()}.\")\n",
        "# Most popular movie in the dataset\n",
        "data[data['popularity']== data['popularity'].max()]"
      ]
    },
    {
      "cell_type": "code",
      "execution_count": null,
      "id": "cc6a33f4-7f1c-4ba3-9305-383655eb4585",
      "metadata": {
        "colab": {
          "base_uri": "https://localhost:8080/",
          "height": 472
        },
        "id": "cc6a33f4-7f1c-4ba3-9305-383655eb4585",
        "outputId": "8fe2afe7-9c25-4c2b-e0a6-f3c5ea768452"
      },
      "outputs": [
        {
          "output_type": "display_data",
          "data": {
            "text/plain": [
              "<Figure size 640x480 with 1 Axes>"
            ],
            "image/png": "[encoded data removed]"
          },
          "metadata": {}
        }
      ],
      "source": [
        "# Visualize popularity scores\n",
        "plt.hist(data['popularity'],color='sandybrown')\n",
        "plt.xlabel('Popularity Score')\n",
        "plt.ylabel('Number of Movies')\n",
        "plt.title('Popularity Score Distribution')\n",
        "plt.show()"
      ]
    },
    {
      "cell_type": "markdown",
      "id": "2e1b767c-ba97-4957-acc6-564ea643ca3c",
      "metadata": {
        "id": "2e1b767c-ba97-4957-acc6-564ea643ca3c"
      },
      "source": [
        "A majority of the popularity scores are less than 100. This indiciates that not many movies are very popular in this dataset. We can analyze the pattern of a majority of the movies by only visualizing movies with a popularity score of less than 100."
      ]
    },
    {
      "cell_type": "code",
      "execution_count": null,
      "id": "058a6b31-f896-41ca-911e-7e57f1e65699",
      "metadata": {
        "colab": {
          "base_uri": "https://localhost:8080/",
          "height": 472
        },
        "id": "058a6b31-f896-41ca-911e-7e57f1e65699",
        "outputId": "6e024180-9c71-4eb3-9291-f992e6360f2e"
      },
      "outputs": [
        {
          "output_type": "display_data",
          "data": {
            "text/plain": [
              "<Figure size 640x480 with 1 Axes>"
            ],
            "image/png": "[encoded data removed]"
          },
          "metadata": {}
        }
      ],
      "source": [
        "# Visualize data with a popularity score less than 100\n",
        "ss = data[data['popularity']<100]['popularity']\n",
        "plt.hist(ss,color='sandybrown')\n",
        "plt.xlabel('Popularity Score')\n",
        "plt.ylabel('Number of Movies')\n",
        "plt.title('Popularity Score Distribution')\n",
        "plt.show()"
      ]
    },
    {
      "cell_type": "markdown",
      "id": "2168523b-e174-454c-a964-50e2a62931e6",
      "metadata": {
        "id": "2168523b-e174-454c-a964-50e2a62931e6"
      },
      "source": [
        "From this visualization, we can see the popularity score is rightly skewed."
      ]
    },
    {
      "cell_type": "code",
      "execution_count": null,
      "id": "bccc2f52-d641-4735-bfe0-c9c28cb86b43",
      "metadata": {
        "colab": {
          "base_uri": "https://localhost:8080/",
          "height": 167
        },
        "id": "bccc2f52-d641-4735-bfe0-c9c28cb86b43",
        "outputId": "51dad296-9283-4256-eb62-10b4afeb5ab5"
      },
      "outputs": [
        {
          "output_type": "stream",
          "name": "stdout",
          "text": [
            "The lowest budget amount is 0.0.\n",
            "The highest budget amount is 5000000000.0.\n"
          ]
        },
        {
          "output_type": "execute_result",
          "data": {
            "text/plain": [
              "            id                                    title genres  \\\n",
              "713928  761770  Humor Us! Presents: SOCIAL DISSOCIATION   none   \n",
              "\n",
              "       original_language                                    overview  \\\n",
              "713928                en  Humor Us' first virtual show on 11/7/2020.   \n",
              "\n",
              "        popularity    release_date        budget  revenue  vote_average  \\\n",
              "713928         0.6  no information  5.000000e+09      5.0           0.0   \n",
              "\n",
              "        vote_count  \n",
              "713928         0.0  "
            ],
            "text/html": [
              "\n",
              "  <div id=\"df-80743967-7ad4-4e24-98a8-296617b80307\" class=\"colab-df-container\">\n",
              "    <div>\n",
              "<style scoped>\n",
              "    .dataframe tbody tr th:only-of-type {\n",
              "        vertical-align: middle;\n",
              "    }\n",
              "\n",
              "    .dataframe tbody tr th {\n",
              "        vertical-align: top;\n",
              "    }\n",
              "\n",
              "    .dataframe thead th {\n",
              "        text-align: right;\n",
              "    }\n",
              "</style>\n",
              "<table border=\"1\" class=\"dataframe\">\n",
              "  <thead>\n",
              "    <tr style=\"text-align: right;\">\n",
              "      <th></th>\n",
              "      <th>id</th>\n",
              "      <th>title</th>\n",
              "      <th>genres</th>\n",
              "      <th>original_language</th>\n",
              "      <th>overview</th>\n",
              "      <th>popularity</th>\n",
              "      <th>release_date</th>\n",
              "      <th>budget</th>\n",
              "      <th>revenue</th>\n",
              "      <th>vote_average</th>\n",
              "      <th>vote_count</th>\n",
              "    </tr>\n",
              "  </thead>\n",
              "  <tbody>\n",
              "    <tr>\n",
              "      <th>713928</th>\n",
              "      <td>761770</td>\n",
              "      <td>Humor Us! Presents: SOCIAL DISSOCIATION</td>\n",
              "      <td>none</td>\n",
              "      <td>en</td>\n",
              "      <td>Humor Us' first virtual show on 11/7/2020.</td>\n",
              "      <td>0.6</td>\n",
              "      <td>no information</td>\n",
              "      <td>5.000000e+09</td>\n",
              "      <td>5.0</td>\n",
              "      <td>0.0</td>\n",
              "      <td>0.0</td>\n",
              "    </tr>\n",
              "  </tbody>\n",
              "</table>\n",
              "</div>\n",
              "    <div class=\"colab-df-buttons\">\n",
              "\n",
              "  <div class=\"colab-df-container\">\n",
              "    <button class=\"colab-df-convert\" onclick=\"convertToInteractive('df-80743967-7ad4-4e24-98a8-296617b80307')\"\n",
              "            title=\"Convert this dataframe to an interactive table.\"\n",
              "            style=\"display:none;\">\n",
              "\n",
              "  <svg xmlns=\"http://www.w3.org/2000/svg\" height=\"24px\" viewBox=\"0 -960 960 960\">\n",
              "    <path d=\"M120-120v-720h720v720H120Zm60-500h600v-160H180v160Zm220 220h160v-160H400v160Zm0 220h160v-160H400v160ZM180-400h160v-160H180v160Zm440 0h160v-160H620v160ZM180-180h160v-160H180v160Zm440 0h160v-160H620v160Z\"/>\n",
              "  </svg>\n",
              "    </button>\n",
              "\n",
              "  <style>\n",
              "    .colab-df-container {\n",
              "      display:flex;\n",
              "      gap: 12px;\n",
              "    }\n",
              "\n",
              "    .colab-df-convert {\n",
              "      background-color: #E8F0FE;\n",
              "      border: none;\n",
              "      border-radius: 50%;\n",
              "      cursor: pointer;\n",
              "      display: none;\n",
              "      fill: #1967D2;\n",
              "      height: 32px;\n",
              "      padding: 0 0 0 0;\n",
              "      width: 32px;\n",
              "    }\n",
              "\n",
              "    .colab-df-convert:hover {\n",
              "      background-color: #E2EBFA;\n",
              "      box-shadow: 0px 1px 2px rgba(60, 64, 67, 0.3), 0px 1px 3px 1px rgba(60, 64, 67, 0.15);\n",
              "      fill: #174EA6;\n",
              "    }\n",
              "\n",
              "    .colab-df-buttons div {\n",
              "      margin-bottom: 4px;\n",
              "    }\n",
              "\n",
              "    [theme=dark] .colab-df-convert {\n",
              "      background-color: #3B4455;\n",
              "      fill: #D2E3FC;\n",
              "    }\n",
              "\n",
              "    [theme=dark] .colab-df-convert:hover {\n",
              "      background-color: #434B5C;\n",
              "      box-shadow: 0px 1px 3px 1px rgba(0, 0, 0, 0.15);\n",
              "      filter: drop-shadow(0px 1px 2px rgba(0, 0, 0, 0.3));\n",
              "      fill: #FFFFFF;\n",
              "    }\n",
              "  </style>\n",
              "\n",
              "    <script>\n",
              "      const buttonEl =\n",
              "        document.querySelector('#df-80743967-7ad4-4e24-98a8-296617b80307 button.colab-df-convert');\n",
              "      buttonEl.style.display =\n",
              "        google.colab.kernel.accessAllowed ? 'block' : 'none';\n",
              "\n",
              "      async function convertToInteractive(key) {\n",
              "        const element = document.querySelector('#df-80743967-7ad4-4e24-98a8-296617b80307');\n",
              "        const dataTable =\n",
              "          await google.colab.kernel.invokeFunction('convertToInteractive',\n",
              "                                                    [key], {});\n",
              "        if (!dataTable) return;\n",
              "\n",
              "        const docLinkHtml = 'Like what you see? Visit the ' +\n",
              "          '<a target=\"_blank\" href=https://colab.research.google.com/notebooks/data_table.ipynb>data table notebook</a>'\n",
              "          + ' to learn more about interactive tables.';\n",
              "        element.innerHTML = '';\n",
              "        dataTable['output_type'] = 'display_data';\n",
              "        await google.colab.output.renderOutput(dataTable, element);\n",
              "        const docLink = document.createElement('div');\n",
              "        docLink.innerHTML = docLinkHtml;\n",
              "        element.appendChild(docLink);\n",
              "      }\n",
              "    </script>\n",
              "  </div>\n",
              "\n",
              "    </div>\n",
              "  </div>\n"
            ],
            "application/vnd.google.colaboratory.intrinsic+json": {
              "type": "dataframe",
              "summary": "{\n  \"name\": \"data[data['budget']== data['budget']\",\n  \"rows\": 1,\n  \"fields\": [\n    {\n      \"column\": \"id\",\n      \"properties\": {\n        \"dtype\": \"number\",\n        \"std\": null,\n        \"min\": 761770,\n        \"max\": 761770,\n        \"num_unique_values\": 1,\n        \"samples\": [\n          761770\n        ],\n        \"semantic_type\": \"\",\n        \"description\": \"\"\n      }\n    },\n    {\n      \"column\": \"title\",\n      \"properties\": {\n        \"dtype\": \"string\",\n        \"num_unique_values\": 1,\n        \"samples\": [\n          \"Humor Us! Presents: SOCIAL DISSOCIATION\"\n        ],\n        \"semantic_type\": \"\",\n        \"description\": \"\"\n      }\n    },\n    {\n      \"column\": \"genres\",\n      \"properties\": {\n        \"dtype\": \"string\",\n        \"num_unique_values\": 1,\n        \"samples\": [\n          \"none\"\n        ],\n        \"semantic_type\": \"\",\n        \"description\": \"\"\n      }\n    },\n    {\n      \"column\": \"original_language\",\n      \"properties\": {\n        \"dtype\": \"string\",\n        \"num_unique_values\": 1,\n        \"samples\": [\n          \"en\"\n        ],\n        \"semantic_type\": \"\",\n        \"description\": \"\"\n      }\n    },\n    {\n      \"column\": \"overview\",\n      \"properties\": {\n        \"dtype\": \"string\",\n        \"num_unique_values\": 1,\n        \"samples\": [\n          \"Humor Us' first virtual show on 11/7/2020.\"\n        ],\n        \"semantic_type\": \"\",\n        \"description\": \"\"\n      }\n    },\n    {\n      \"column\": \"popularity\",\n      \"properties\": {\n        \"dtype\": \"number\",\n        \"std\": null,\n        \"min\": 0.6,\n        \"max\": 0.6,\n        \"num_unique_values\": 1,\n        \"samples\": [\n          0.6\n        ],\n        \"semantic_type\": \"\",\n        \"description\": \"\"\n      }\n    },\n    {\n      \"column\": \"release_date\",\n      \"properties\": {\n        \"dtype\": \"string\",\n        \"num_unique_values\": 1,\n        \"samples\": [\n          \"no information\"\n        ],\n        \"semantic_type\": \"\",\n        \"description\": \"\"\n      }\n    },\n    {\n      \"column\": \"budget\",\n      \"properties\": {\n        \"dtype\": \"number\",\n        \"std\": null,\n        \"min\": 5000000000.0,\n        \"max\": 5000000000.0,\n        \"num_unique_values\": 1,\n        \"samples\": [\n          5000000000.0\n        ],\n        \"semantic_type\": \"\",\n        \"description\": \"\"\n      }\n    },\n    {\n      \"column\": \"revenue\",\n      \"properties\": {\n        \"dtype\": \"number\",\n        \"std\": null,\n        \"min\": 5.0,\n        \"max\": 5.0,\n        \"num_unique_values\": 1,\n        \"samples\": [\n          5.0\n        ],\n        \"semantic_type\": \"\",\n        \"description\": \"\"\n      }\n    },\n    {\n      \"column\": \"vote_average\",\n      \"properties\": {\n        \"dtype\": \"number\",\n        \"std\": null,\n        \"min\": 0.0,\n        \"max\": 0.0,\n        \"num_unique_values\": 1,\n        \"samples\": [\n          0.0\n        ],\n        \"semantic_type\": \"\",\n        \"description\": \"\"\n      }\n    },\n    {\n      \"column\": \"vote_count\",\n      \"properties\": {\n        \"dtype\": \"number\",\n        \"std\": null,\n        \"min\": 0.0,\n        \"max\": 0.0,\n        \"num_unique_values\": 1,\n        \"samples\": [\n          0.0\n        ],\n        \"semantic_type\": \"\",\n        \"description\": \"\"\n      }\n    }\n  ]\n}"
            }
          },
          "metadata": {},
          "execution_count": 28
        }
      ],
      "source": [
        "# Explore movie budgets\n",
        "print(f\"The lowest budget amount is {data['budget'].min()}.\")\n",
        "print(f\"The highest budget amount is {data['budget'].max()}.\")\n",
        "# Most expensive movie\n",
        "data[data['budget']== data['budget'].max()]"
      ]
    },
    {
      "cell_type": "code",
      "execution_count": null,
      "id": "8370b9e8-e505-4933-ac79-90cc3df519d6",
      "metadata": {
        "colab": {
          "base_uri": "https://localhost:8080/",
          "height": 472
        },
        "id": "8370b9e8-e505-4933-ac79-90cc3df519d6",
        "outputId": "76b1763f-f815-4a90-941b-160370b7752a"
      },
      "outputs": [
        {
          "output_type": "display_data",
          "data": {
            "text/plain": [
              "<Figure size 640x480 with 1 Axes>"
            ],
            "image/png": "[encoded data removed]"
          },
          "metadata": {}
        }
      ],
      "source": [
        "# Visualize movie budget distribution\n",
        "plt.hist(data['budget'],color='indianred')\n",
        "plt.xlabel('Budget Amount')\n",
        "plt.ylabel('Number of Movies')\n",
        "plt.title('Movie Budget Distribution')\n",
        "plt.show()"
      ]
    },
    {
      "cell_type": "markdown",
      "id": "0e2b381c-ab04-4a39-99a6-203d7dcdb71b",
      "metadata": {
        "id": "0e2b381c-ab04-4a39-99a6-203d7dcdb71b"
      },
      "source": [
        "From this visualization, it can be determined that a majority of the movie budgets in this dataset are less than 100 million dollars. We can analyze the distribution these movies by only visualizing movie budgets under 100 million."
      ]
    },
    {
      "cell_type": "code",
      "execution_count": null,
      "id": "67b797c3-b0af-4aa2-9670-ac0b21d90aa2",
      "metadata": {
        "colab": {
          "base_uri": "https://localhost:8080/",
          "height": 472
        },
        "id": "67b797c3-b0af-4aa2-9670-ac0b21d90aa2",
        "outputId": "0742a391-0cb0-4c07-df80-e7d4ad07f430"
      },
      "outputs": [
        {
          "output_type": "display_data",
          "data": {
            "text/plain": [
              "<Figure size 640x480 with 1 Axes>"
            ],
            "image/png": "[encoded data removed]"
          },
          "metadata": {}
        }
      ],
      "source": [
        "# Visualize distribution for movie budgets under 100 million\n",
        "plt.hist(data[data['budget']<100000000]['budget'],color='indianred')\n",
        "plt.xlabel('Budget Amount')\n",
        "plt.ylabel('Number of Movies')\n",
        "plt.title('Movie Budget Distribution')\n",
        "plt.show()"
      ]
    },
    {
      "cell_type": "markdown",
      "id": "0fdf18cb-a054-49bd-bdba-08c088d09466",
      "metadata": {
        "id": "0fdf18cb-a054-49bd-bdba-08c088d09466"
      },
      "source": [
        "From this visualization, we can see movie budget is still rightly skewed."
      ]
    },
    {
      "cell_type": "code",
      "execution_count": null,
      "id": "3bfc6162-1cf1-4838-9b1a-de7ca1b3dff6",
      "metadata": {
        "colab": {
          "base_uri": "https://localhost:8080/",
          "height": 185
        },
        "id": "3bfc6162-1cf1-4838-9b1a-de7ca1b3dff6",
        "outputId": "2d5702c9-63c0-4831-8339-bf8030f20d3e"
      },
      "outputs": [
        {
          "output_type": "stream",
          "name": "stdout",
          "text": [
            "The lowest revenue amount is -12.0.\n",
            "The highest revenue amount is 2920357254.0.\n"
          ]
        },
        {
          "output_type": "execute_result",
          "data": {
            "text/plain": [
              "        id   title                                    genres  \\\n",
              "137  19995  Avatar  Action-Adventure-Fantasy-Science Fiction   \n",
              "\n",
              "    original_language                                           overview  \\\n",
              "137                en  In the 22nd century a paraplegic Marine is dis...   \n",
              "\n",
              "     popularity release_date       budget       revenue  vote_average  \\\n",
              "137      296.05   2009-12-15  237000000.0  2.920357e+09         7.569   \n",
              "\n",
              "     vote_count  \n",
              "137     28943.0  "
            ],
            "text/html": [
              "\n",
              "  <div id=\"df-db6c61f6-4c47-4b6f-a447-5e2bb7b3f4fd\" class=\"colab-df-container\">\n",
              "    <div>\n",
              "<style scoped>\n",
              "    .dataframe tbody tr th:only-of-type {\n",
              "        vertical-align: middle;\n",
              "    }\n",
              "\n",
              "    .dataframe tbody tr th {\n",
              "        vertical-align: top;\n",
              "    }\n",
              "\n",
              "    .dataframe thead th {\n",
              "        text-align: right;\n",
              "    }\n",
              "</style>\n",
              "<table border=\"1\" class=\"dataframe\">\n",
              "  <thead>\n",
              "    <tr style=\"text-align: right;\">\n",
              "      <th></th>\n",
              "      <th>id</th>\n",
              "      <th>title</th>\n",
              "      <th>genres</th>\n",
              "      <th>original_language</th>\n",
              "      <th>overview</th>\n",
              "      <th>popularity</th>\n",
              "      <th>release_date</th>\n",
              "      <th>budget</th>\n",
              "      <th>revenue</th>\n",
              "      <th>vote_average</th>\n",
              "      <th>vote_count</th>\n",
              "    </tr>\n",
              "  </thead>\n",
              "  <tbody>\n",
              "    <tr>\n",
              "      <th>137</th>\n",
              "      <td>19995</td>\n",
              "      <td>Avatar</td>\n",
              "      <td>Action-Adventure-Fantasy-Science Fiction</td>\n",
              "      <td>en</td>\n",
              "      <td>In the 22nd century a paraplegic Marine is dis...</td>\n",
              "      <td>296.05</td>\n",
              "      <td>2009-12-15</td>\n",
              "      <td>237000000.0</td>\n",
              "      <td>2.920357e+09</td>\n",
              "      <td>7.569</td>\n",
              "      <td>28943.0</td>\n",
              "    </tr>\n",
              "  </tbody>\n",
              "</table>\n",
              "</div>\n",
              "    <div class=\"colab-df-buttons\">\n",
              "\n",
              "  <div class=\"colab-df-container\">\n",
              "    <button class=\"colab-df-convert\" onclick=\"convertToInteractive('df-db6c61f6-4c47-4b6f-a447-5e2bb7b3f4fd')\"\n",
              "            title=\"Convert this dataframe to an interactive table.\"\n",
              "            style=\"display:none;\">\n",
              "\n",
              "  <svg xmlns=\"http://www.w3.org/2000/svg\" height=\"24px\" viewBox=\"0 -960 960 960\">\n",
              "    <path d=\"M120-120v-720h720v720H120Zm60-500h600v-160H180v160Zm220 220h160v-160H400v160Zm0 220h160v-160H400v160ZM180-400h160v-160H180v160Zm440 0h160v-160H620v160ZM180-180h160v-160H180v160Zm440 0h160v-160H620v160Z\"/>\n",
              "  </svg>\n",
              "    </button>\n",
              "\n",
              "  <style>\n",
              "    .colab-df-container {\n",
              "      display:flex;\n",
              "      gap: 12px;\n",
              "    }\n",
              "\n",
              "    .colab-df-convert {\n",
              "      background-color: #E8F0FE;\n",
              "      border: none;\n",
              "      border-radius: 50%;\n",
              "      cursor: pointer;\n",
              "      display: none;\n",
              "      fill: #1967D2;\n",
              "      height: 32px;\n",
              "      padding: 0 0 0 0;\n",
              "      width: 32px;\n",
              "    }\n",
              "\n",
              "    .colab-df-convert:hover {\n",
              "      background-color: #E2EBFA;\n",
              "      box-shadow: 0px 1px 2px rgba(60, 64, 67, 0.3), 0px 1px 3px 1px rgba(60, 64, 67, 0.15);\n",
              "      fill: #174EA6;\n",
              "    }\n",
              "\n",
              "    .colab-df-buttons div {\n",
              "      margin-bottom: 4px;\n",
              "    }\n",
              "\n",
              "    [theme=dark] .colab-df-convert {\n",
              "      background-color: #3B4455;\n",
              "      fill: #D2E3FC;\n",
              "    }\n",
              "\n",
              "    [theme=dark] .colab-df-convert:hover {\n",
              "      background-color: #434B5C;\n",
              "      box-shadow: 0px 1px 3px 1px rgba(0, 0, 0, 0.15);\n",
              "      filter: drop-shadow(0px 1px 2px rgba(0, 0, 0, 0.3));\n",
              "      fill: #FFFFFF;\n",
              "    }\n",
              "  </style>\n",
              "\n",
              "    <script>\n",
              "      const buttonEl =\n",
              "        document.querySelector('#df-db6c61f6-4c47-4b6f-a447-5e2bb7b3f4fd button.colab-df-convert');\n",
              "      buttonEl.style.display =\n",
              "        google.colab.kernel.accessAllowed ? 'block' : 'none';\n",
              "\n",
              "      async function convertToInteractive(key) {\n",
              "        const element = document.querySelector('#df-db6c61f6-4c47-4b6f-a447-5e2bb7b3f4fd');\n",
              "        const dataTable =\n",
              "          await google.colab.kernel.invokeFunction('convertToInteractive',\n",
              "                                                    [key], {});\n",
              "        if (!dataTable) return;\n",
              "\n",
              "        const docLinkHtml = 'Like what you see? Visit the ' +\n",
              "          '<a target=\"_blank\" href=https://colab.research.google.com/notebooks/data_table.ipynb>data table notebook</a>'\n",
              "          + ' to learn more about interactive tables.';\n",
              "        element.innerHTML = '';\n",
              "        dataTable['output_type'] = 'display_data';\n",
              "        await google.colab.output.renderOutput(dataTable, element);\n",
              "        const docLink = document.createElement('div');\n",
              "        docLink.innerHTML = docLinkHtml;\n",
              "        element.appendChild(docLink);\n",
              "      }\n",
              "    </script>\n",
              "  </div>\n",
              "\n",
              "    </div>\n",
              "  </div>\n"
            ],
            "application/vnd.google.colaboratory.intrinsic+json": {
              "type": "dataframe",
              "repr_error": "0"
            }
          },
          "metadata": {},
          "execution_count": 31
        }
      ],
      "source": [
        "# Explore movie revenue\n",
        "print(f\"The lowest revenue amount is {data['revenue'].min()}.\")\n",
        "print(f\"The highest revenue amount is {data['revenue'].max()}.\")\n",
        "# Most financially successful movie\n",
        "data[data['revenue']== data['revenue'].max()]"
      ]
    },
    {
      "cell_type": "code",
      "execution_count": null,
      "id": "7a849fd0-4418-4853-ada5-55ffbcef9f4d",
      "metadata": {
        "colab": {
          "base_uri": "https://localhost:8080/",
          "height": 472
        },
        "id": "7a849fd0-4418-4853-ada5-55ffbcef9f4d",
        "outputId": "7596537e-b3fb-4ff5-d422-0af700cf0ab2"
      },
      "outputs": [
        {
          "output_type": "display_data",
          "data": {
            "text/plain": [
              "<Figure size 640x480 with 1 Axes>"
            ],
            "image/png": "[encoded data removed]"
          },
          "metadata": {}
        }
      ],
      "source": [
        "# Visualize movie revenue\n",
        "plt.hist(data['revenue'],color='lightseagreen')\n",
        "plt.xlabel('Revenue Amount')\n",
        "plt.ylabel('Number of Movies')\n",
        "plt.title('Movie Revenue Distribution')\n",
        "plt.show()"
      ]
    },
    {
      "cell_type": "markdown",
      "id": "0ba2814b-4e36-4ae0-b959-99c66391139a",
      "metadata": {
        "id": "0ba2814b-4e36-4ae0-b959-99c66391139a"
      },
      "source": [
        "Most of the movies do not make more than 100 million in revenue. We can analyze the revenue for these movies more closely by looking into those with revenue less than 100 million."
      ]
    },
    {
      "cell_type": "code",
      "execution_count": null,
      "id": "4868bc38-9896-4df2-9aee-f945ce1c5fcf",
      "metadata": {
        "colab": {
          "base_uri": "https://localhost:8080/",
          "height": 472
        },
        "id": "4868bc38-9896-4df2-9aee-f945ce1c5fcf",
        "outputId": "b4370f8b-d8d1-4b8d-9170-2b39cef2d3c5"
      },
      "outputs": [
        {
          "output_type": "display_data",
          "data": {
            "text/plain": [
              "<Figure size 640x480 with 1 Axes>"
            ],
            "image/png": "[encoded data removed]"
          },
          "metadata": {}
        }
      ],
      "source": [
        "# Visualize counts for movie revenue under 100 million\n",
        "plt.hist(data[data['budget']<100000000]['budget'],color='lightseagreen')\n",
        "plt.xlabel('Revenue Amount')\n",
        "plt.ylabel('Number of Movies')\n",
        "plt.title('Movie Revenue Distribution')\n",
        "plt.show()"
      ]
    },
    {
      "cell_type": "markdown",
      "id": "1575cb33-7e5f-4041-bb48-85bb5b8a80a2",
      "metadata": {
        "id": "1575cb33-7e5f-4041-bb48-85bb5b8a80a2"
      },
      "source": [
        "From this visualization, we can see movie revenue distribution is still rightly skewed."
      ]
    },
    {
      "cell_type": "code",
      "execution_count": null,
      "id": "5ead941f-b3ff-49d2-a997-9b9b4c4fb262",
      "metadata": {
        "colab": {
          "base_uri": "https://localhost:8080/",
          "height": 472
        },
        "id": "5ead941f-b3ff-49d2-a997-9b9b4c4fb262",
        "outputId": "260e7eed-3d4f-4b1e-812f-bb0203a9d696"
      },
      "outputs": [
        {
          "output_type": "display_data",
          "data": {
            "text/plain": [
              "<Figure size 640x480 with 1 Axes>"
            ],
            "image/png": "[encoded data removed]"
          },
          "metadata": {}
        }
      ],
      "source": [
        "# Visualize avg. voting counts\n",
        "plt.hist(data['vote_average'],color='palevioletred')\n",
        "plt.xlabel('Avg. Voting Count')\n",
        "plt.ylabel('Number of Movies')\n",
        "plt.title('Avg. Voting Distribution')\n",
        "plt.show()"
      ]
    },
    {
      "cell_type": "markdown",
      "id": "e125274f-cab6-4f0e-9922-8631f04c40c3",
      "metadata": {
        "id": "e125274f-cab6-4f0e-9922-8631f04c40c3"
      },
      "source": [
        "Excluding the zero data, the average voting count variable is normally distributed."
      ]
    },
    {
      "cell_type": "code",
      "execution_count": null,
      "id": "00cd91bf-a988-40b2-a45d-210800d4779f",
      "metadata": {
        "colab": {
          "base_uri": "https://localhost:8080/",
          "height": 472
        },
        "id": "00cd91bf-a988-40b2-a45d-210800d4779f",
        "outputId": "ea2e94df-bc60-4543-9b68-32d2e1ed3ac1"
      },
      "outputs": [
        {
          "output_type": "display_data",
          "data": {
            "text/plain": [
              "<Figure size 640x480 with 1 Axes>"
            ],
            "image/png": "[encoded data removed]"
          },
          "metadata": {}
        }
      ],
      "source": [
        "# Visualize the vote counts\n",
        "plt.hist(data['vote_count'],color='goldenrod')\n",
        "plt.xlabel('Number of Votes')\n",
        "plt.ylabel('Number of Movies')\n",
        "plt.title('Vote Count Distribution')\n",
        "plt.show()"
      ]
    },
    {
      "cell_type": "markdown",
      "id": "77131db3-1838-450e-9c63-7e43a0a8dd0e",
      "metadata": {
        "id": "77131db3-1838-450e-9c63-7e43a0a8dd0e"
      },
      "source": [
        "We can see the following variable is rightly skewed, therefore it will probably be more useful to use the average voting variable in our model instead."
      ]
    },
    {
      "cell_type": "code",
      "execution_count": null,
      "id": "919cda8b-1592-4c77-a832-48276222ba5e",
      "metadata": {
        "id": "919cda8b-1592-4c77-a832-48276222ba5e"
      },
      "outputs": [],
      "source": []
    }
  ],
  "metadata": {
    "kernelspec": {
      "display_name": "Python 3 (ipykernel)",
      "language": "python",
      "name": "python3"
    },
    "language_info": {
      "codemirror_mode": {
        "name": "ipython",
        "version": 3
      },
      "file_extension": ".py",
      "mimetype": "text/x-python",
      "name": "python",
      "nbconvert_exporter": "python",
      "pygments_lexer": "ipython3",
      "version": "3.8.8"
    },
    "colab": {
      "provenance": []
    }
  },
  "nbformat": 4,
  "nbformat_minor": 5
}